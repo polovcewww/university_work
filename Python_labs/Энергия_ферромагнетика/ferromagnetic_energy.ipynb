{
 "cells": [
  {
   "cell_type": "code",
   "execution_count": 1,
   "id": "e3f0a7a4",
   "metadata": {},
   "outputs": [],
   "source": [
    "import numpy as np\n",
    "import matplotlib.pyplot as plt\n",
    "import typing\n",
    "import time\n",
    "\n",
    "from numba import njit, prange, objmode"
   ]
  },
  {
   "cell_type": "code",
   "execution_count": 16,
   "id": "7fd1ac89",
   "metadata": {},
   "outputs": [],
   "source": [
    "Ly = 4\n",
    "Lx_arr = np.arange(2, 9, 1).astype(int)\n",
    "kT_arr = np.arange(1, 5, 0.1)\n",
    "correct_answer_Lx_4 = [-1.99715844, -1.99396091, -1.98856632, -1.98016965, -1.96786355, -1.95064256,\n",
    "                     -1.9274244,  -1.89711215, -1.85871667, -1.81153907, -1.75538029, -1.69071311,\n",
    "                     -1.61874282, -1.54131149, -1.46065977, -1.37911648, -1.29880759, -1.22145424,\n",
    "                     -1.14828469, -1.0800446,  -1.01706963, -0.95938399, -0.90679838, -0.85899291,\n",
    "                     -0.8155803,  -0.77615005, -0.74029707, -0.70763857, -0.67782287, -0.65053286,\n",
    "                     -0.62548613, -0.60243323, -0.58115501, -0.56145948, -0.5431787,  -0.52616582,\n",
    "                     -0.5102923,  -0.49544555, -0.48152673, -0.46844889]\n",
    "correct_answer_Lx_5 = [-1.99715893, -1.99396296, -1.98857263, -1.98018387, -1.96788363, -1.95063964,\n",
    "                     -1.92729692, -1.89661121, -1.85735639, -1.80853133, -1.74965024, -1.68103752,\n",
    "                     -1.60399878, -1.52075577, -1.43412763, -1.3470633,  -1.26219309, -1.18153361,\n",
    "                     -1.10638872, -1.03740747, -0.97472647, -0.918132,   -0.86720255, -0.82141645,\n",
    "                     -0.78022445, -0.74309384, -0.70953215, -0.67909749, -0.65140075, -0.62610332,\n",
    "                     -0.60291264, -0.58157686, -0.56187952, -0.54363452, -0.52668165, -0.51088271,\n",
    "                     -0.49611811, -0.48228409, -0.46929029, -0.45705774,]"
   ]
  },
  {
   "cell_type": "code",
   "execution_count": 3,
   "id": "c82835fa",
   "metadata": {},
   "outputs": [],
   "source": [
    "@njit(parallel=True, fastmath=True)\n",
    "def izing_model(Lx: np.int8, Ly : np.int8, kT_arr: np.ndarray):\n",
    "    '''\n",
    "    Функция расчитывает нормализованное значение средней энергии для решетки молекул размера Lx*Ly и \n",
    "    температур из массива kT_arr согласно модели Изинга.\n",
    "    Input:\n",
    "    Lx - размер решетки по x\n",
    "    Ly - размер решетки по y\n",
    "    kT_arr - массив Numpy температур на константу Больцмана\n",
    "    Output:\n",
    "    Одномерный массив нумпай со значениями нормализованной средней энергии для каждой kT.\n",
    "    '''\n",
    "    normalized_average_energies = np.empty(len(kT_arr), dtype = np.float32)\n",
    "    N = Lx * Ly\n",
    "    for T_i in prange(len(kT_arr)):\n",
    "        \n",
    "        E_arr = np.zeros(2**N)\n",
    "        Z_arr = np.zeros(2**N)\n",
    "        for s in range(2**N):\n",
    "            E = 0\n",
    "            J = 1\n",
    "            spins = np.full(N, -1, dtype=np.int8)\n",
    "            i = N-1\n",
    "            s_copy = s\n",
    "            while s_copy > 0:\n",
    "                remainder = s_copy % 2\n",
    "                if remainder == 1:      \n",
    "                    spins[i] = remainder\n",
    "                s_copy = s_copy // 2\n",
    "                i = i - 1\n",
    "            spins = spins.reshape(Lx, Ly)\n",
    "            for i in range(-1, Lx-1):\n",
    "                for j in range(-1, Ly-1):\n",
    "                    E -= J * spins[i, j] * (spins[i + 1, j] + spins[i, j + 1])\n",
    "            Z = np.exp(- E / kT_arr[T_i])\n",
    "            Z_arr[s] = Z\n",
    "            E_arr[s] = E\n",
    "        normalized_average_energies[T_i] = np.sum(E_arr*Z_arr)* (1/(Lx*Ly*np.sum(Z_arr)))\n",
    "    return normalized_average_energies"
   ]
  },
  {
   "cell_type": "code",
   "execution_count": 4,
   "id": "3fe8fcba",
   "metadata": {},
   "outputs": [
    {
     "name": "stdout",
     "output_type": "stream",
     "text": [
      "[ 0.  0.  0. -0. -0. -0. -0.  0. -0.  0.  0. -0. -0. -0.  0. -0. -0. -0.\n",
      "  0. -0.  0.  0.  0. -0. -0.  0. -0.  0. -0.  0. -0.  0.  0. -0.  0. -0.\n",
      "  0.  0. -0.  0.]\n"
     ]
    }
   ],
   "source": [
    "Lx = 4\n",
    "print(np.round(izing_model(Lx, Ly, kT_arr) - correct_answer_Lx_4, 5))"
   ]
  },
  {
   "cell_type": "code",
   "execution_count": 5,
   "id": "0d2f0f58",
   "metadata": {},
   "outputs": [
    {
     "data": {
      "text/plain": [
       "array([ 0., -0.,  0.,  0.,  0.,  0.,  0., -0., -0.,  0.,  0., -0., -0.,\n",
       "        0., -0., -0.,  0.,  0.,  0., -0.,  0., -0., -0.,  0.,  0., -0.,\n",
       "        0.,  0.,  0., -0., -0., -0.,  0., -0., -0., -0.,  0., -0.,  0.,\n",
       "       -0.])"
      ]
     },
     "execution_count": 5,
     "metadata": {},
     "output_type": "execute_result"
    }
   ],
   "source": [
    "Lx = 5\n",
    "np.round(izing_model(Lx, Ly, kT_arr) - correct_answer_Lx_5, 5)"
   ]
  },
  {
   "cell_type": "code",
   "execution_count": 6,
   "id": "b354972f",
   "metadata": {},
   "outputs": [],
   "source": [
    "@njit(parallel=True, fastmath=True)\n",
    "def izing_model_with_different_Lx(Lx_arr : np.ndarray, Ly : np.int8, kT_arr : np.ndarray):\n",
    "    '''\n",
    "    Функция расчитывает нормализованное значение средней энергии для решетки молекул размера Lx*Ly\n",
    "    (для всех Lx из массива Lx_arr) и температур из массива kT_arr согласно модели Изинга.\n",
    "    Input:\n",
    "    Lx_arr - массив Numpy размеров решетки по x\n",
    "    Ly - размер решетки по y\n",
    "    kT_arr - массив Numpy температур на константу Больцмана\n",
    "    Output:\n",
    "    Двумерный массив нумпай со значениями нормализованной средней энергии <E> для каждой kT и каждого Lx. \n",
    "    То есть возвращаемое_значение[i, j] равно значению <E> при размере решетки Lx[j]*Ly и k*температуру kT[i].\n",
    "    '''\n",
    "    J = 1\n",
    "    normalized_average_energies = np.empty((len(kT_arr), len(Lx_arr)), dtype = np.float64)\n",
    "    #for Lx_i, Lx in enumerate(Lx_arr):\n",
    "    for Lx_i in range(len(Lx_arr)):\n",
    "        with objmode(start='f8'):\n",
    "            start = time.time()\n",
    "        Lx = Lx_arr[Lx_i]\n",
    "        N = Lx * Ly\n",
    "        arr = np.arange(N)\n",
    "        for kT_i in range(len(kT_arr)):\n",
    "            E_arr = np.zeros(2**N, dtype=np.int32)\n",
    "            Z_arr = np.zeros(2**N, dtype=np.float32)\n",
    "            for s in prange(2**N):\n",
    "                E = 0\n",
    "                spins = (((s >> arr) & 1) * 2 - 1).reshape(Lx, Ly)\n",
    "                for i in range(-1, Lx-1):\n",
    "                    for j in range(-1, Ly-1):\n",
    "                        E -= J * spins[i, j] * (spins[i + 1, j] + spins[i, j + 1])\n",
    "                Z = np.exp(- E / kT_arr[kT_i])\n",
    "                Z_arr[s] = Z\n",
    "                E_arr[s] = E\n",
    "            normalized_average_energies[kT_i, Lx_i] = np.sum(E_arr*Z_arr)* (1/(N*np.sum(Z_arr)))\n",
    "        with objmode():\n",
    "            end = time.time()\n",
    "            print(f'Время расчета для Lx = {Lx}: {end - start}')\n",
    "    return normalized_average_energies"
   ]
  },
  {
   "cell_type": "code",
   "execution_count": 7,
   "id": "232a61b7",
   "metadata": {},
   "outputs": [
    {
     "name": "stdout",
     "output_type": "stream",
     "text": [
      "Время расчета для Lx = 2: 0.004004001617431641\n",
      "Время расчета для Lx = 3: 0.003002166748046875\n",
      "Время расчета для Lx = 4: 0.028024911880493164\n",
      "Время расчета для Lx = 5: 0.5825304985046387\n",
      "Время расчета для Lx = 6: 7.728032350540161\n",
      "Время расчета для Lx = 7: 129.95385122299194\n",
      "Время расчета для Lx = 8: 4070.9917047023773\n"
     ]
    }
   ],
   "source": [
    "result = izing_model_with_different_Lx(Lx_arr, Ly, kT_arr)"
   ]
  },
  {
   "cell_type": "code",
   "execution_count": 8,
   "id": "5db48867",
   "metadata": {},
   "outputs": [],
   "source": [
    "np.save('result.npy', result)"
   ]
  },
  {
   "cell_type": "code",
   "execution_count": 19,
   "id": "9b152220",
   "metadata": {},
   "outputs": [
    {
     "name": "stdout",
     "output_type": "stream",
     "text": [
      "Нормированное значение средней энергии при температурах  kT∈[1.0,5.0) :\n",
      "Lx =  2\n",
      "[-1.9950943  -1.98967853 -1.9807484  -1.96731099 -1.94851495 -1.92375805\n",
      " -1.89277291 -1.85565666 -1.81286305 -1.76514811 -1.71347571 -1.65892234\n",
      " -1.60257403 -1.54544916 -1.48844218 -1.43229534 -1.37758951 -1.32475208\n",
      " -1.27407531 -1.22573604 -1.17982009 -1.13634292 -1.09526762 -1.056521\n",
      " -1.0200058  -0.98560873 -0.95321074 -0.92268863 -0.89392041 -0.86678829\n",
      " -0.84117929 -0.81698626 -0.7941092  -0.77245493 -0.75193627 -0.73247317\n",
      " -0.71399178 -0.69642346 -0.67970555 -0.66378015]\n",
      "Lx =  3\n",
      "[-1.99711773 -1.99383632 -1.98825232 -1.97949377 -1.96659168 -1.94853232\n",
      " -1.92432621 -1.8931225  -1.85433615 -1.80777815 -1.75375213 -1.69305918\n",
      " -1.62695636 -1.55700056 -1.48487848 -1.41223048 -1.34050987 -1.27089462\n",
      " -1.20425894 -1.14118326 -1.08199266 -1.02680918 -0.97560146 -0.92823304\n",
      " -0.88450073 -0.84416301 -0.80696154 -0.77263706 -0.74093833 -0.71162685\n",
      " -0.68448227 -0.65930217 -0.63590254 -0.61411704 -0.59379589 -0.57480488\n",
      " -0.55702367 -0.54034462 -0.52467128 -0.50991695]\n",
      "Lx =  4\n",
      "[-1.9971588  -1.99396269 -1.98856271 -1.98017688 -1.96786949 -1.95064193\n",
      " -1.92741971 -1.89710754 -1.85872356 -1.81153207 -1.75538238 -1.69072186\n",
      " -1.61874048 -1.54130876 -1.4606567  -1.37911536 -1.29880672 -1.22145178\n",
      " -1.148285   -1.08004514 -1.01706852 -0.95938454 -0.90679873 -0.85899326\n",
      " -0.81558062 -0.77615036 -0.7402971  -0.70763875 -0.6778225  -0.65053266\n",
      " -0.62548626 -0.60243328 -0.58115474 -0.56145899 -0.54317885 -0.52616574\n",
      " -0.51029285 -0.49544523 -0.48152712 -0.46844884]\n",
      "Lx =  5\n",
      "[-1.99715568 -1.99396357 -1.98856129 -1.98020261 -1.9679318  -1.95067449\n",
      " -1.92730638 -1.8965322  -1.85732944 -1.80855378 -1.74965506 -1.68112331\n",
      " -1.60398519 -1.52080204 -1.43413671 -1.34709421 -1.26215258 -1.18153056\n",
      " -1.10639207 -1.03740911 -0.97472468 -0.91812384 -0.86720997 -0.82141836\n",
      " -0.78023182 -0.74310008 -0.70952969 -0.6790987  -0.65139932 -0.62609545\n",
      " -0.60290489 -0.5815787  -0.56186786 -0.54363682 -0.52667979 -0.51088839\n",
      " -0.49610596 -0.48228821 -0.46929134 -0.4570709 ]\n",
      "Lx =  6\n",
      "[-1.99716336 -1.99396969 -1.98856303 -1.98018778 -1.96792739 -1.95053674\n",
      " -1.92700258 -1.89567174 -1.85535421 -1.80412457 -1.74285104 -1.67108091\n",
      " -1.58978006 -1.501111   -1.41079677 -1.32030073 -1.23283563 -1.15206116\n",
      " -1.07671441 -1.00873935 -0.94770901 -0.89351473 -0.84491308 -0.80117751\n",
      " -0.76218568 -0.72705179 -0.69532191 -0.66640601 -0.64017467 -0.61633911\n",
      " -0.59426694 -0.57391433 -0.55506281 -0.53745644 -0.52113342 -0.5058667\n",
      " -0.49182161 -0.47821248 -0.46562681 -0.45382156]\n",
      "Lx =  7\n",
      "[-1.99715339 -1.99396265 -1.98853132 -1.98017573 -1.96790586 -1.95028832\n",
      " -1.92665079 -1.89466855 -1.85417064 -1.80223565 -1.73630965 -1.6650174\n",
      " -1.57595875 -1.48525261 -1.39497019 -1.30375729 -1.21775991 -1.13354749\n",
      " -1.06110956 -0.99695498 -0.93672029 -0.88192138 -0.83675108 -0.79559282\n",
      " -0.75655203 -0.72215241 -0.68982309 -0.66395418 -0.63947618 -0.61287236\n",
      " -0.59307808 -0.57108343 -0.55340682 -0.5363732  -0.52152952 -0.50478394\n",
      " -0.49065724 -0.47890214 -0.46548175 -0.45272047]\n",
      "Lx =  8\n",
      "[-1.99716977 -1.99397531 -1.98856443 -1.98014508 -1.96800536 -1.9505178\n",
      " -1.92683062 -1.89361545 -1.85271234 -1.80117921 -1.73298422 -1.66269939\n",
      " -1.58007602 -1.48414854 -1.39228747 -1.31726185 -1.23433473 -1.1600474\n",
      " -1.07929913 -1.0431175  -0.98132101 -0.93974841 -0.87663274 -0.84854078\n",
      " -0.79733856 -0.77419569 -0.74401328 -0.71517572 -0.68517593 -0.68535918\n",
      " -0.66239837 -0.64103074 -0.61808891 -0.58819701 -0.58307018 -0.56696603\n",
      " -0.54105882 -0.5250922  -0.49995004 -0.49845262]\n"
     ]
    }
   ],
   "source": [
    "energy = np.load('result.npy')\n",
    "print('Нормированное значение средней энергии при температурах  kT∈[1.0,5.0) :')\n",
    "for i in range(len(Lx_arr)):\n",
    "    print('Lx = ', Lx_arr[i])\n",
    "    print(energy[:, i])"
   ]
  },
  {
   "cell_type": "code",
   "execution_count": 22,
   "id": "1bb4d3de",
   "metadata": {},
   "outputs": [
    {
     "data": {
      "image/png": "[encoded data removed]",
      "text/plain": [
       "<Figure size 800x800 with 2 Axes>"
      ]
     },
     "metadata": {},
     "output_type": "display_data"
    }
   ],
   "source": [
    "Lx_arr = np.arange(2, 10, 1).astype(int)\n",
    "kT_arr = np.arange(1, 5.1, 0.1)\n",
    "\n",
    "#energy = np.transpose(energy)\n",
    "plt.figure(figsize=(8, 8))\n",
    "plt.pcolormesh(Lx_arr, kT_arr, energy)\n",
    "plt.xlabel('Lx', fontsize=16)\n",
    "plt.ylabel('kT', fontsize=16)\n",
    "plt.xticks(Lx_arr)\n",
    "plt.yticks(kT_arr)\n",
    "plt.colorbar()\n",
    "plt.title('Цветовая карта нормированной средней энергии', fontsize=12)\n",
    "plt.show()"
   ]
  },
  {
   "cell_type": "code",
   "execution_count": null,
   "id": "5b689243",
   "metadata": {},
   "outputs": [],
   "source": []
  },
  {
   "cell_type": "code",
   "execution_count": null,
   "id": "01461a13",
   "metadata": {},
   "outputs": [],
   "source": []
  }
 ],
 "metadata": {
  "kernelspec": {
   "display_name": "Python 3 (ipykernel)",
   "language": "python",
   "name": "python3"
  },
  "language_info": {
   "codemirror_mode": {
    "name": "ipython",
    "version": 3
   },
   "file_extension": ".py",
   "mimetype": "text/x-python",
   "name": "python",
   "nbconvert_exporter": "python",
   "pygments_lexer": "ipython3",
   "version": "3.11.4"
  }
 },
 "nbformat": 4,
 "nbformat_minor": 5
}
